{
 "cells": [
  {
   "cell_type": "code",
   "execution_count": 5,
   "metadata": {},
   "outputs": [
    {
     "name": "stdout",
     "output_type": "stream",
     "text": [
      "\n",
      "Sum: 7650\n",
      "Min: 80\n",
      "Max: 600\n",
      "Mean: 347.72727272727275\n",
      "Median: 325.0\n",
      "\n"
     ]
    },
    {
     "data": {
      "image/png": "[encoded data removed]",
      "text/plain": [
       "<Figure size 432x288 with 1 Axes>"
      ]
     },
     "metadata": {
      "needs_background": "light"
     },
     "output_type": "display_data"
    }
   ],
   "source": [
    "# -*- coding: utf-8 -*-\n",
    "\n",
    "###############################################################################\n",
    "# \"Zoo\" example\n",
    "###############################################################################\n",
    "#  Objectives:\n",
    "#   Introduction to pandas, seaborn and matplotlib\n",
    "#  Source:\n",
    "#   https://data36.com/pandas-tutorial-2-aggregation-and-grouping/\n",
    "#   https://towardsdatascience.com/histograms-and-density-plots-in-python-f6bda88f5ac0\n",
    "#   https://data36.com/pandas-tutorial-1-basics-reading-data-files-dataframes-data-selection/\n",
    "###############################################################################\n",
    "\n",
    "# Load libraries\n",
    "import seaborn as sns\n",
    "import matplotlib.pyplot as plt\n",
    "import pandas as pd\n",
    "import numpy as np\n",
    "%matplotlib inline\n",
    "\n",
    "###############################################################################\n",
    "# Read dataset\n",
    "zoo = pd.read_csv(\"../data/extracted/Zoo/zoo.csv\")\n",
    "zoo\n",
    "###############################################################################\n",
    "# Filter and count, double corchete regresa un dataFrame\n",
    "zoo[[\"animal\"]].count()\n",
    "zoo.animal.count()\n",
    "animalsList = list(zoo.animal)\n",
    "# al convertirlo en set elimina los duplicados, por definición un set no contiene duplicados\n",
    "animalsTypes = set(animalsList)\n",
    "\n",
    "###############################################################################\n",
    "# More filtering and stats\n",
    "# Se toma la columna de \"water need\"\n",
    "waterNeeded = zoo[\"water_need\"]\n",
    "print(f\"\"\"\n",
    "Sum: {waterNeeded.sum()}\n",
    "Min: {waterNeeded.min()}\n",
    "Max: {waterNeeded.max()}\n",
    "Mean: {waterNeeded.mean()}\n",
    "Median: {waterNeeded.median()}\n",
    "\"\"\")\n",
    "plt.hist(waterNeeded, color='blue', edgecolor='black', bins=int(180/5))\n",
    "\n",
    "\n",
    "\n",
    "###############################################################################\n",
    "# Mixed filtering and plotting\n",
    "# Agrupa por categoria de animal, calcula la media de water_need, al indicar entre [[]] el nombre de la columna\n",
    "waterGroupedMean = zoo.groupby(\"animal\").mean()[[\"water_need\"]]\n",
    "zoo.groupby(\"animal\").mean().water_need\n",
    "\n",
    "waterGroupedSum = zoo.groupby(\"animal\").mean().water_need\n",
    "waterGroupedSum.plot.bar()\n",
    "plt.close()\n",
    "sns.barplot(\n",
    "    x=\"animal\", y=\"water_need\", data=zoo,\n",
    "    capsize=.2, linewidth=2.5, facecolor=(1, 1, 1, 0),\n",
    "    errcolor=\".2\", edgecolor=\".2\"\n",
    ")\n",
    "plt.savefig('./images/zoo.png', dpi=500)"
   ]
  }
 ],
 "metadata": {
  "kernelspec": {
   "display_name": "Python [conda env:.conda-Prueba] *",
   "language": "python",
   "name": "conda-env-.conda-Prueba-py"
  },
  "language_info": {
   "codemirror_mode": {
    "name": "ipython",
    "version": 3
   },
   "file_extension": ".py",
   "mimetype": "text/x-python",
   "name": "python",
   "nbconvert_exporter": "python",
   "pygments_lexer": "ipython3",
   "version": "3.7.3"
  }
 },
 "nbformat": 4,
 "nbformat_minor": 2
}
